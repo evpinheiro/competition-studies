{
 "cells": [
  {
   "cell_type": "code",
   "execution_count": 3,
   "metadata": {},
   "outputs": [],
   "source": [
    "import pyomo.opt \n",
    "import pyomo.environ as pe\n",
    "import numpy as np\n",
    "import pandas as pd\n",
    "import matplotlib.pyplot as plt"
   ]
  },
  {
   "cell_type": "markdown",
   "metadata": {},
   "source": [
    "# 1.2.9 Método para análise estratégica: Análise estratégica de dados para alinhamento das outorgas portuárias"
   ]
  },
  {
   "cell_type": "markdown",
   "metadata": {},
   "source": [
    "## Modelo custo de fluxo mínimo multiproduto em redes"
   ]
  },
  {
   "cell_type": "markdown",
   "metadata": {},
   "source": [
    "### Primal"
   ]
  },
  {
   "cell_type": "markdown",
   "metadata": {},
   "source": [
    "\\begin{aligned}\n",
    "& \\underset{x_{ij}^k}{\\text{minimizar}} & &\\sum_{k \\in OD}\\sum_{(i,j) \\in E} c_{ij}x_{ij}^k &\\\\\n",
    "& \\text{sujeito a}  & & \\sum_{k\\in K} x_{ij}^k \\leq u_{ij} & \\forall (i,j) \\in E\\\\\n",
    "&                   & & \\sum_{i:(i,v)\\in E} x_{iv}^k - \\sum_{j:(v,j)\\in E} x_{vj}^k = 0 & \\forall v \\in V, \\forall k \\in OD \\; \\mid \\;v \\notin OD_1 \\cup OD_2\\\\\n",
    "&                   & & \\sum_{i:(i,v)\\in E} x_{iv}^k - \\sum_{j:(v,j)\\in E} x_{vj}^k = d^k & \\forall v \\in V, \\forall k \\in OD \\; \\mid \\;v \\in OD_1 \\\\\n",
    "&                   & & \\sum_{i:(i,v)\\in E} x_{iv}^k - \\sum_{j:(v,j)\\in E} x_{vj}^k = -d^k & \\forall v \\in V, \\forall k \\in OD \\; \\mid \\;v \\in OD_2 \\\\\n",
    "&                   & & x_{ij}^k \\geq 0 & \\forall (i,j) \\in E \\quad \\forall k \\in OD.\n",
    "\\end{aligned}"
   ]
  },
  {
   "cell_type": "markdown",
   "metadata": {},
   "source": [
    "### Dual"
   ]
  },
  {
   "cell_type": "markdown",
   "metadata": {},
   "source": [
    "\\begin{aligned}\n",
    "& \\underset{x_{ij}^k}{\\text{maximizar}} & &\\sum_{k \\in OD}\\sum_{v \\in V} \\pi_v^kd^k - \\sum_{(i,j) \\in E} d_{ij}\\mu_{ij}&\\\\\n",
    "& \\text{sujeito a}  & & \\pi_i^k - \\pi_j^k - \\mu_{ij} = c_{ij} & \\forall (i,j) \\in E, \\; \\forall k \\in OD\\\\\n",
    "&                   & & \\pi_i^k \\in \\mathbb{R} \\quad \\mu_{ij} \\geq 0\n",
    "\\end{aligned}"
   ]
  },
  {
   "cell_type": "markdown",
   "metadata": {},
   "source": [
    "## Dados de entrada"
   ]
  },
  {
   "cell_type": "code",
   "execution_count": 22,
   "metadata": {},
   "outputs": [],
   "source": [
    "origens = [\"SP\", \"SC\"]\n",
    "destinos = [\"USA\", \"EU\"]\n",
    "portos = [\"Itapoá\", \"SFS\"]\n",
    "\n",
    "origem_destino = [(o,d) for o in origens for d in destinos]\n",
    "demanda_origem_destino = {  origem_destino[0]:4, \n",
    "                            origem_destino[1]:5,\n",
    "                            origem_destino[2]:2, \n",
    "                            origem_destino[3]:1 }\n",
    "\n",
    "#Conjunto E\n",
    "\n",
    "portos_v = [(p+\"-in\", p+\"-out\") for p in portos]\n",
    "\n",
    "arcos = [(origens[0], portos_v[0][0]), (origens[0], portos_v[1][0]), (origens[1], portos_v[0][0]), (origens[1], portos_v[1][0]),\n",
    "         (portos_v[0][0], portos_v[0][1]), (portos_v[1][0], portos_v[1][1]),\n",
    "         (portos_v[0][1], destinos[0]), (portos_v[1][1], destinos[0]), (portos_v[0][1], destinos[1]), (portos_v[1][1], destinos[1]),\n",
    "         (origens[0], destinos[0]), (origens[0], destinos[1]), (origens[1], destinos[0]), (origens[1], destinos[1])]\n",
    "#Conjunto V\n",
    "vertices = list(set().union(origens,destinos))\n",
    "for porto_v in portos_v:\n",
    "    vertices = list(set().union(vertices,porto_v))\n",
    "\n",
    "# c_ij\n",
    "custo_transporte = {arcos[0]:.505, \n",
    "                    arcos[1]:.190,\n",
    "                    arcos[2]:.365,\n",
    "                    arcos[3]:.265,\n",
    "                    arcos[4]:.002,\n",
    "                    arcos[5]:.001,\n",
    "                    arcos[6]:.345,\n",
    "                    arcos[7]:.525,\n",
    "                    arcos[8]:.210,\n",
    "                    arcos[9]:.245,\n",
    "                    arcos[10]:1000,\n",
    "                    arcos[11]:1000,\n",
    "                    arcos[12]:1000,\n",
    "                    arcos[13]:1000}\n",
    "\n",
    "# u_ij\n",
    "capacidades_arcos = {arcos[0]:2,\n",
    "                     arcos[1]:2,\n",
    "                     arcos[2]:2,\n",
    "                     arcos[3]:2,\n",
    "                     arcos[4]:4,\n",
    "                     arcos[5]:2,\n",
    "                     arcos[6]:5,\n",
    "                     arcos[7]:5,\n",
    "                     arcos[8]:5,\n",
    "                     arcos[9]:5,\n",
    "                     arcos[10]:1000,\n",
    "                     arcos[11]:1000,\n",
    "                     arcos[12]:1000,\n",
    "                     arcos[13]:1000}"
   ]
  },
  {
   "cell_type": "code",
   "execution_count": 23,
   "metadata": {},
   "outputs": [
    {
     "data": {
      "text/plain": [
       "[('SP', 'Itapoá-in'),\n",
       " ('SP', 'SFS-in'),\n",
       " ('SC', 'Itapoá-in'),\n",
       " ('SC', 'SFS-in'),\n",
       " ('Itapoá-in', 'Itapoá-out'),\n",
       " ('SFS-in', 'SFS-out'),\n",
       " ('Itapoá-out', 'USA'),\n",
       " ('SFS-out', 'USA'),\n",
       " ('Itapoá-out', 'EU'),\n",
       " ('SFS-out', 'EU'),\n",
       " ('SP', 'USA'),\n",
       " ('SP', 'EU'),\n",
       " ('SC', 'USA'),\n",
       " ('SC', 'EU')]"
      ]
     },
     "execution_count": 23,
     "metadata": {},
     "output_type": "execute_result"
    }
   ],
   "source": [
    "arcos"
   ]
  },
  {
   "cell_type": "code",
   "execution_count": 4,
   "metadata": {},
   "outputs": [
    {
     "data": {
      "image/png": "[encoded data removed]",
      "text/plain": [
       "<matplotlib.figure.Figure at 0x7f75440742b0>"
      ]
     },
     "metadata": {},
     "output_type": "display_data"
    }
   ],
   "source": [
    "import networkx as nx\n",
    "G = nx.Graph()\n",
    "G.add_edge('A', 'B', weight=4)\n",
    "G.add_edge('B', 'D', weight=2)\n",
    "G.add_edge('A', 'C', weight=3)\n",
    "G.add_edge('C', 'D', weight=4)\n",
    "nx.draw(G, with_labels=True)\n",
    "plt.show()\n",
    "\n",
    "#nx.shortest_path(G, 'A', 'D', weight='weight')\n"
   ]
  },
  {
   "cell_type": "code",
   "execution_count": 5,
   "metadata": {},
   "outputs": [
    {
     "ename": "AttributeError",
     "evalue": "module 'networkx' has no attribute 'from_pandas_dataframe'",
     "output_type": "error",
     "traceback": [
      "\u001b[0;31m---------------------------------------------------------------------------\u001b[0m",
      "\u001b[0;31mAttributeError\u001b[0m                            Traceback (most recent call last)",
      "\u001b[0;32m<ipython-input-5-0705d1ec9ea8>\u001b[0m in \u001b[0;36m<module>\u001b[0;34m()\u001b[0m\n\u001b[1;32m     12\u001b[0m \u001b[0;34m\u001b[0m\u001b[0m\n\u001b[1;32m     13\u001b[0m \u001b[0;31m# Build your graph. Note that we use the DiGraph function to create the graph!\u001b[0m\u001b[0;34m\u001b[0m\u001b[0;34m\u001b[0m\u001b[0m\n\u001b[0;32m---> 14\u001b[0;31m \u001b[0mG\u001b[0m\u001b[0;34m=\u001b[0m\u001b[0mnx\u001b[0m\u001b[0;34m.\u001b[0m\u001b[0mfrom_pandas_dataframe\u001b[0m\u001b[0;34m(\u001b[0m\u001b[0mdf\u001b[0m\u001b[0;34m,\u001b[0m \u001b[0;34m'from'\u001b[0m\u001b[0;34m,\u001b[0m \u001b[0;34m'to'\u001b[0m\u001b[0;34m,\u001b[0m \u001b[0mcreate_using\u001b[0m\u001b[0;34m=\u001b[0m\u001b[0mnx\u001b[0m\u001b[0;34m.\u001b[0m\u001b[0mDiGraph\u001b[0m\u001b[0;34m(\u001b[0m\u001b[0;34m)\u001b[0m \u001b[0;34m)\u001b[0m\u001b[0;34m\u001b[0m\u001b[0m\n\u001b[0m\u001b[1;32m     15\u001b[0m \u001b[0;34m\u001b[0m\u001b[0m\n\u001b[1;32m     16\u001b[0m \u001b[0;31m# Make the graph\u001b[0m\u001b[0;34m\u001b[0m\u001b[0;34m\u001b[0m\u001b[0m\n",
      "\u001b[0;31mAttributeError\u001b[0m: module 'networkx' has no attribute 'from_pandas_dataframe'"
     ]
    }
   ],
   "source": [
    "import pandas as pd\n",
    "import numpy as np\n",
    "import networkx as nx\n",
    "import matplotlib.pyplot as plt\n",
    " \n",
    "# ------- DIRECTED\n",
    " \n",
    "# Build a dataframe with your connections\n",
    "# This time a pair can appear 2 times, in one side or in the other!\n",
    "df = pd.DataFrame({ 'from':['D', 'A', 'B', 'C','A'], 'to':['A', 'D', 'A', 'E','C']})\n",
    "df\n",
    " \n",
    "# Build your graph. Note that we use the DiGraph function to create the graph!\n",
    "G=nx.from_pandas_dataframe(df, 'from', 'to', create_using=nx.DiGraph() )\n",
    " \n",
    "# Make the graph\n",
    "nx.draw(G, with_labels=True, node_size=1500, alpha=0.3, arrows=True)\n",
    " \n",
    "# &nbsp;\n",
    " \n",
    "# # ------- UNDIRECTED\n",
    " \n",
    "# # Build a dataframe with your connections\n",
    "# # This time a pair can appear 2 times, in one side or in the other!\n",
    "# df = pd.DataFrame({ 'from':['D', 'A', 'B', 'C','A'], 'to':['A', 'D', 'A', 'E','C']})\n",
    "# df\n",
    " \n",
    "# # Build your graph. Note that we use the Graph function to create the graph!\n",
    "# G=nx.from_pandas_dataframe(df, 'from', 'to', create_using=nx.Graph() )\n",
    " \n",
    "# # Make the graphnx.draw(G, with_labels=True, node_size=1500, alpha=0.3, arrows=True)\n",
    "# plt.title(\"UN-Directed\")"
   ]
  },
  {
   "cell_type": "markdown",
   "metadata": {},
   "source": [
    "## Formulação de modelo concreto: Custo mínimo multi produto em redes "
   ]
  },
  {
   "cell_type": "code",
   "execution_count": 25,
   "metadata": {},
   "outputs": [],
   "source": [
    "modelo = pe.ConcreteModel(name=\"(demanda_porto)\")\n",
    "                  \n",
    "modelo.node_set = pe.Set( initialize=vertices )\n",
    "modelo.edge_set = pe.Set( initialize=arcos, dimen=2)\n",
    "modelo.commodity_set = pe.Set( initialize=origem_destino, dimen=2)\n",
    "modelo.dual = pe.Suffix(direction=pe.Suffix.IMPORT)\n",
    "\n",
    "modelo.var_indexes = pe.Set(initialize=modelo.edge_set*modelo.commodity_set)\n",
    "modelo.var = pe.Var(modelo.var_indexes, within=pe.NonNegativeReals)\n",
    "\n",
    "def objetivo(m):\n",
    "    return sum(custo_transporte[(index[0], index[1])] * m.var[index] for index in modelo.var_indexes)     \n",
    "modelo.obj = pe.Objective(rule=objetivo, sense=pe.minimize)\n",
    "\n",
    "def conserva_fluxo(m, i, o, d):\n",
    "    from_i = [v for v in arcos if v[0] == i]\n",
    "    to_i = [v for v in arcos if v[1] == i]\n",
    "    q =  demanda_origem_destino[(o,d)] if i == o else -demanda_origem_destino[(o,d)] if i == d else 0\n",
    "    return sum(m.var[v,(o,d)] for v in from_i) - sum(m.var[v,(o,d)] for v in to_i) == q\n",
    "\n",
    "modelo.conserva_fluxo_indexes = pe.Set(initialize=modelo.node_set*modelo.commodity_set)\n",
    "modelo.flowConservation = pe.Constraint(modelo.conserva_fluxo_indexes, rule=conserva_fluxo)\n",
    "\n",
    "def capacidades(m, e1,e2):\n",
    "    return sum(m.var[e1,e2,o,d] for (o,d) in modelo.commodity_set) <= capacidades_arcos[(e1,e2)]\n",
    "modelo.capacidade_arco = pe.Constraint(modelo.edge_set, rule=capacidades)\n",
    " \n",
    "solver = pyomo.opt.SolverFactory('cbc')\n",
    "results = solver.solve(modelo)"
   ]
  },
  {
   "cell_type": "markdown",
   "metadata": {},
   "source": [
    "## Apresenta resultados\n",
    "### Análise dos Fluxos"
   ]
  },
  {
   "cell_type": "code",
   "execution_count": 26,
   "metadata": {},
   "outputs": [
    {
     "name": "stdout",
     "output_type": "stream",
     "text": [
      "{'Itapoá': 4.0, 'SFS': 2.0}\n"
     ]
    },
    {
     "data": {
      "image/png": "[encoded data removed]",
      "text/plain": [
       "<Figure size 432x288 with 1 Axes>"
      ]
     },
     "metadata": {
      "needs_background": "light"
     },
     "output_type": "display_data"
    }
   ],
   "source": [
    "demanda_porto = {}\n",
    "for porto in portos:\n",
    "    total = 0\n",
    "    for var_index in modelo.var_indexes:\n",
    "        if (var_index[0], var_index[1]) == (porto+\"-in\", porto+\"-out\"):\n",
    "            total += modelo.var[var_index].value\n",
    "    demanda_porto[porto] = total\n",
    "\n",
    "print(demanda_porto)\n",
    "\n",
    "from matplotlib import rcParams\n",
    "color = 'black'\n",
    "rcParams['xtick.color'] = color\n",
    "rcParams['ytick.color'] = color\n",
    "rcParams['axes.labelcolor'] = color\n",
    "rcParams['axes.edgecolor'] = color\n",
    "plt.bar(range(len(demanda_porto)),list(demanda_porto.values()),tick_label=list(demanda_porto.keys()))\n",
    "plt.show()\n",
    "    \n",
    "# for con in modelo.component_map(pe.Constraint).itervalues():\n",
    "#     print(con.pprint())"
   ]
  },
  {
   "cell_type": "code",
   "execution_count": 27,
   "metadata": {},
   "outputs": [
    {
     "name": "stdout",
     "output_type": "stream",
     "text": [
      "Model (demanda_porto)\n",
      "\n",
      "  Variables:\n",
      "    var : Size=56, Index=var_indexes\n",
      "        Key                                      : Lower : Value : Upper : Fixed : Stale : Domain\n",
      "         ('Itapoá-in', 'Itapoá-out', 'SC', 'EU') :     0 :   1.0 :  None : False : False : NonNegativeReals\n",
      "        ('Itapoá-in', 'Itapoá-out', 'SC', 'USA') :     0 :   1.0 :  None : False : False : NonNegativeReals\n",
      "         ('Itapoá-in', 'Itapoá-out', 'SP', 'EU') :     0 :   2.0 :  None : False : False : NonNegativeReals\n",
      "        ('Itapoá-in', 'Itapoá-out', 'SP', 'USA') :     0 :   0.0 :  None : False : False : NonNegativeReals\n",
      "                ('Itapoá-out', 'EU', 'SC', 'EU') :     0 :   1.0 :  None : False : False : NonNegativeReals\n",
      "               ('Itapoá-out', 'EU', 'SC', 'USA') :     0 :   0.0 :  None : False : False : NonNegativeReals\n",
      "                ('Itapoá-out', 'EU', 'SP', 'EU') :     0 :   2.0 :  None : False : False : NonNegativeReals\n",
      "               ('Itapoá-out', 'EU', 'SP', 'USA') :     0 :   0.0 :  None : False : False : NonNegativeReals\n",
      "               ('Itapoá-out', 'USA', 'SC', 'EU') :     0 :   0.0 :  None : False : False : NonNegativeReals\n",
      "              ('Itapoá-out', 'USA', 'SC', 'USA') :     0 :   1.0 :  None : False : False : NonNegativeReals\n",
      "               ('Itapoá-out', 'USA', 'SP', 'EU') :     0 :   0.0 :  None : False : False : NonNegativeReals\n",
      "              ('Itapoá-out', 'USA', 'SP', 'USA') :     0 :   0.0 :  None : False : False : NonNegativeReals\n",
      "                        ('SC', 'EU', 'SC', 'EU') :     0 :   0.0 :  None : False : False : NonNegativeReals\n",
      "                       ('SC', 'EU', 'SC', 'USA') :     0 :   0.0 :  None : False : False : NonNegativeReals\n",
      "                        ('SC', 'EU', 'SP', 'EU') :     0 :   0.0 :  None : False : False : NonNegativeReals\n",
      "                       ('SC', 'EU', 'SP', 'USA') :     0 :   0.0 :  None : False : False : NonNegativeReals\n",
      "                 ('SC', 'Itapoá-in', 'SC', 'EU') :     0 :   1.0 :  None : False : False : NonNegativeReals\n",
      "                ('SC', 'Itapoá-in', 'SC', 'USA') :     0 :   1.0 :  None : False : False : NonNegativeReals\n",
      "                 ('SC', 'Itapoá-in', 'SP', 'EU') :     0 :   0.0 :  None : False : False : NonNegativeReals\n",
      "                ('SC', 'Itapoá-in', 'SP', 'USA') :     0 :   0.0 :  None : False : False : NonNegativeReals\n",
      "                    ('SC', 'SFS-in', 'SC', 'EU') :     0 :   0.0 :  None : False : False : NonNegativeReals\n",
      "                   ('SC', 'SFS-in', 'SC', 'USA') :     0 :   0.0 :  None : False : False : NonNegativeReals\n",
      "                    ('SC', 'SFS-in', 'SP', 'EU') :     0 :   0.0 :  None : False : False : NonNegativeReals\n",
      "                   ('SC', 'SFS-in', 'SP', 'USA') :     0 :   0.0 :  None : False : False : NonNegativeReals\n",
      "                       ('SC', 'USA', 'SC', 'EU') :     0 :   0.0 :  None : False : False : NonNegativeReals\n",
      "                      ('SC', 'USA', 'SC', 'USA') :     0 :   1.0 :  None : False : False : NonNegativeReals\n",
      "                       ('SC', 'USA', 'SP', 'EU') :     0 :   0.0 :  None : False : False : NonNegativeReals\n",
      "                      ('SC', 'USA', 'SP', 'USA') :     0 :   0.0 :  None : False : False : NonNegativeReals\n",
      "               ('SFS-in', 'SFS-out', 'SC', 'EU') :     0 :   0.0 :  None : False : False : NonNegativeReals\n",
      "              ('SFS-in', 'SFS-out', 'SC', 'USA') :     0 :   0.0 :  None : False : False : NonNegativeReals\n",
      "               ('SFS-in', 'SFS-out', 'SP', 'EU') :     0 :   2.0 :  None : False : False : NonNegativeReals\n",
      "              ('SFS-in', 'SFS-out', 'SP', 'USA') :     0 :   0.0 :  None : False : False : NonNegativeReals\n",
      "                   ('SFS-out', 'EU', 'SC', 'EU') :     0 :   0.0 :  None : False : False : NonNegativeReals\n",
      "                  ('SFS-out', 'EU', 'SC', 'USA') :     0 :   0.0 :  None : False : False : NonNegativeReals\n",
      "                   ('SFS-out', 'EU', 'SP', 'EU') :     0 :   2.0 :  None : False : False : NonNegativeReals\n",
      "                  ('SFS-out', 'EU', 'SP', 'USA') :     0 :   0.0 :  None : False : False : NonNegativeReals\n",
      "                  ('SFS-out', 'USA', 'SC', 'EU') :     0 :   0.0 :  None : False : False : NonNegativeReals\n",
      "                 ('SFS-out', 'USA', 'SC', 'USA') :     0 :   0.0 :  None : False : False : NonNegativeReals\n",
      "                  ('SFS-out', 'USA', 'SP', 'EU') :     0 :   0.0 :  None : False : False : NonNegativeReals\n",
      "                 ('SFS-out', 'USA', 'SP', 'USA') :     0 :   0.0 :  None : False : False : NonNegativeReals\n",
      "                        ('SP', 'EU', 'SC', 'EU') :     0 :   0.0 :  None : False : False : NonNegativeReals\n",
      "                       ('SP', 'EU', 'SC', 'USA') :     0 :   0.0 :  None : False : False : NonNegativeReals\n",
      "                        ('SP', 'EU', 'SP', 'EU') :     0 :   1.0 :  None : False : False : NonNegativeReals\n",
      "                       ('SP', 'EU', 'SP', 'USA') :     0 :   0.0 :  None : False : False : NonNegativeReals\n",
      "                 ('SP', 'Itapoá-in', 'SC', 'EU') :     0 :   0.0 :  None : False : False : NonNegativeReals\n",
      "                ('SP', 'Itapoá-in', 'SC', 'USA') :     0 :   0.0 :  None : False : False : NonNegativeReals\n",
      "                 ('SP', 'Itapoá-in', 'SP', 'EU') :     0 :   2.0 :  None : False : False : NonNegativeReals\n",
      "                ('SP', 'Itapoá-in', 'SP', 'USA') :     0 :   0.0 :  None : False : False : NonNegativeReals\n",
      "                    ('SP', 'SFS-in', 'SC', 'EU') :     0 :   0.0 :  None : False : False : NonNegativeReals\n",
      "                   ('SP', 'SFS-in', 'SC', 'USA') :     0 :   0.0 :  None : False : False : NonNegativeReals\n",
      "                    ('SP', 'SFS-in', 'SP', 'EU') :     0 :   2.0 :  None : False : False : NonNegativeReals\n",
      "                   ('SP', 'SFS-in', 'SP', 'USA') :     0 :   0.0 :  None : False : False : NonNegativeReals\n",
      "                       ('SP', 'USA', 'SC', 'EU') :     0 :   0.0 :  None : False : False : NonNegativeReals\n",
      "                      ('SP', 'USA', 'SC', 'USA') :     0 :   0.0 :  None : False : False : NonNegativeReals\n",
      "                       ('SP', 'USA', 'SP', 'EU') :     0 :   0.0 :  None : False : False : NonNegativeReals\n",
      "                      ('SP', 'USA', 'SP', 'USA') :     0 :   4.0 :  None : False : False : NonNegativeReals\n",
      "\n",
      "  Objectives:\n",
      "    obj : Size=1, Index=None, Active=True\n",
      "        Key  : Active : Value\n",
      "        None :   True : 6003.594999999999\n",
      "\n",
      "  Constraints:\n",
      "    flowConservation : Size=32\n",
      "        Key                         : Lower : Body : Upper\n",
      "                 ('EU', 'SC', 'EU') :  -1.0 : -1.0 :  -1.0\n",
      "                ('EU', 'SC', 'USA') :   0.0 : -0.0 :   0.0\n",
      "                 ('EU', 'SP', 'EU') :  -5.0 : -5.0 :  -5.0\n",
      "                ('EU', 'SP', 'USA') :   0.0 : -0.0 :   0.0\n",
      "          ('Itapoá-in', 'SC', 'EU') :   0.0 :  0.0 :   0.0\n",
      "         ('Itapoá-in', 'SC', 'USA') :   0.0 :  0.0 :   0.0\n",
      "          ('Itapoá-in', 'SP', 'EU') :   0.0 :  0.0 :   0.0\n",
      "         ('Itapoá-in', 'SP', 'USA') :   0.0 :  0.0 :   0.0\n",
      "         ('Itapoá-out', 'SC', 'EU') :   0.0 :  0.0 :   0.0\n",
      "        ('Itapoá-out', 'SC', 'USA') :   0.0 :  0.0 :   0.0\n",
      "         ('Itapoá-out', 'SP', 'EU') :   0.0 :  0.0 :   0.0\n",
      "        ('Itapoá-out', 'SP', 'USA') :   0.0 :  0.0 :   0.0\n",
      "                 ('SC', 'SC', 'EU') :   1.0 :  1.0 :   1.0\n",
      "                ('SC', 'SC', 'USA') :   2.0 :  2.0 :   2.0\n",
      "                 ('SC', 'SP', 'EU') :   0.0 :  0.0 :   0.0\n",
      "                ('SC', 'SP', 'USA') :   0.0 :  0.0 :   0.0\n",
      "             ('SFS-in', 'SC', 'EU') :   0.0 :  0.0 :   0.0\n",
      "            ('SFS-in', 'SC', 'USA') :   0.0 :  0.0 :   0.0\n",
      "             ('SFS-in', 'SP', 'EU') :   0.0 :  0.0 :   0.0\n",
      "            ('SFS-in', 'SP', 'USA') :   0.0 :  0.0 :   0.0\n",
      "            ('SFS-out', 'SC', 'EU') :   0.0 :  0.0 :   0.0\n",
      "           ('SFS-out', 'SC', 'USA') :   0.0 :  0.0 :   0.0\n",
      "            ('SFS-out', 'SP', 'EU') :   0.0 :  0.0 :   0.0\n",
      "           ('SFS-out', 'SP', 'USA') :   0.0 :  0.0 :   0.0\n",
      "                 ('SP', 'SC', 'EU') :   0.0 :  0.0 :   0.0\n",
      "                ('SP', 'SC', 'USA') :   0.0 :  0.0 :   0.0\n",
      "                 ('SP', 'SP', 'EU') :   5.0 :  5.0 :   5.0\n",
      "                ('SP', 'SP', 'USA') :   4.0 :  4.0 :   4.0\n",
      "                ('USA', 'SC', 'EU') :   0.0 : -0.0 :   0.0\n",
      "               ('USA', 'SC', 'USA') :  -2.0 : -2.0 :  -2.0\n",
      "                ('USA', 'SP', 'EU') :   0.0 : -0.0 :   0.0\n",
      "               ('USA', 'SP', 'USA') :  -4.0 : -4.0 :  -4.0\n",
      "    capacidade_arco : Size=14\n",
      "        Key                         : Lower : Body : Upper\n",
      "        ('Itapoá-in', 'Itapoá-out') :  None :  4.0 :    4.0\n",
      "               ('Itapoá-out', 'EU') :  None :  3.0 :    5.0\n",
      "              ('Itapoá-out', 'USA') :  None :  1.0 :    5.0\n",
      "                       ('SC', 'EU') :  None :  0.0 : 1000.0\n",
      "                ('SC', 'Itapoá-in') :  None :  2.0 :    2.0\n",
      "                   ('SC', 'SFS-in') :  None :  0.0 :    2.0\n",
      "                      ('SC', 'USA') :  None :  1.0 : 1000.0\n",
      "              ('SFS-in', 'SFS-out') :  None :  2.0 :    2.0\n",
      "                  ('SFS-out', 'EU') :  None :  2.0 :    5.0\n",
      "                 ('SFS-out', 'USA') :  None :  0.0 :    5.0\n",
      "                       ('SP', 'EU') :  None :  1.0 : 1000.0\n",
      "                ('SP', 'Itapoá-in') :  None :  2.0 :    2.0\n",
      "                   ('SP', 'SFS-in') :  None :  2.0 :    2.0\n",
      "                      ('SP', 'USA') :  None :  4.0 : 1000.0\n",
      "('SP', 'Itapoá-in', 'SP', 'EU') 2.0\n",
      "('SP', 'SFS-in', 'SP', 'EU') 2.0\n",
      "('SC', 'Itapoá-in', 'SC', 'USA') 1.0\n",
      "('SC', 'Itapoá-in', 'SC', 'EU') 1.0\n",
      "('Itapoá-in', 'Itapoá-out', 'SP', 'EU') 2.0\n",
      "('Itapoá-in', 'Itapoá-out', 'SC', 'USA') 1.0\n",
      "('Itapoá-in', 'Itapoá-out', 'SC', 'EU') 1.0\n",
      "('SFS-in', 'SFS-out', 'SP', 'EU') 2.0\n",
      "('Itapoá-out', 'USA', 'SC', 'USA') 1.0\n",
      "('Itapoá-out', 'EU', 'SP', 'EU') 2.0\n",
      "('Itapoá-out', 'EU', 'SC', 'EU') 1.0\n",
      "('SFS-out', 'EU', 'SP', 'EU') 2.0\n",
      "('SP', 'USA', 'SP', 'USA') 4.0\n",
      "('SP', 'EU', 'SP', 'EU') 1.0\n",
      "('SC', 'USA', 'SC', 'USA') 1.0\n"
     ]
    }
   ],
   "source": [
    "#print(results)\n",
    "# print(results.solver.status)\n",
    "# modelo.x.pprint()\n",
    "#print(objetivo(modelo))\n",
    "#print(conserva_fluxo(modelo, vertices, origem_destino))\n",
    "modelo.display()\n",
    "#modelo.pprint()\n",
    "for var_index in modelo.var_indexes:\n",
    "    if modelo.var[var_index].value != 0:\n",
    "        print(var_index,modelo.var[var_index].value)    "
   ]
  },
  {
   "cell_type": "markdown",
   "metadata": {},
   "source": [
    "### Análise das variáveis duais"
   ]
  },
  {
   "cell_type": "code",
   "execution_count": 28,
   "metadata": {},
   "outputs": [
    {
     "name": "stdout",
     "output_type": "stream",
     "text": [
      "   Restrição flowConservation\n",
      "       ('SFS-out', 'SP', 'USA') 0.245\n",
      "       ('SFS-out', 'SP', 'EU') -999.755\n",
      "       ('SFS-out', 'SC', 'USA') 0.525\n",
      "       ('SFS-out', 'SC', 'EU') -999.62\n",
      "       ('SFS-in', 'SP', 'USA') 999.6\n",
      "       ('SFS-in', 'SP', 'EU') -0.4\n",
      "       ('SFS-in', 'SC', 'USA') 999.88\n",
      "       ('SFS-in', 'SC', 'EU') -0.265\n",
      "       ('EU', 'SP', 'USA') 0.135\n",
      "       ('EU', 'SP', 'EU') -1000.0\n",
      "       ('EU', 'SC', 'USA') 0.28\n",
      "       ('EU', 'SC', 'EU') -999.865\n",
      "       ('USA', 'SP', 'USA') 0.0\n",
      "       ('USA', 'SP', 'EU') 0.0\n",
      "       ('USA', 'SC', 'USA') 0.0\n",
      "       ('USA', 'SC', 'EU') 0.0\n",
      "       ('Itapoá-in', 'SP', 'USA') 0.347\n",
      "       ('Itapoá-in', 'SP', 'EU') -999.788\n",
      "       ('Itapoá-in', 'SC', 'USA') 0.347\n",
      "       ('Itapoá-in', 'SC', 'EU') -999.653\n",
      "       ('SC', 'SP', 'USA') 0.0\n",
      "       ('SC', 'SP', 'EU') -0.135\n",
      "       ('SC', 'SC', 'USA') 1000.0\n",
      "       ('SC', 'SC', 'EU') 0.0\n",
      "       ('Itapoá-out', 'SP', 'USA') 0.345\n",
      "       ('Itapoá-out', 'SP', 'EU') -999.79\n",
      "       ('Itapoá-out', 'SC', 'USA') 0.345\n",
      "       ('Itapoá-out', 'SC', 'EU') -999.655\n",
      "       ('SP', 'SP', 'USA') 1000.0\n",
      "       ('SP', 'SP', 'EU') 0.0\n",
      "       ('SP', 'SC', 'USA') 0.0\n",
      "       ('SP', 'SC', 'EU') 0.0\n",
      "   Restrição capacidade_arco\n",
      "       ('SP', 'Itapoá-in') -999.283\n",
      "       ('SP', 'SFS-in') -0.21\n",
      "       ('SC', 'Itapoá-in') -999.288\n",
      "       ('SC', 'SFS-in') 0.0\n",
      "       ('Itapoá-in', 'Itapoá-out') 0.0\n",
      "       ('SFS-in', 'SFS-out') -999.354\n",
      "       ('Itapoá-out', 'USA') 0.0\n",
      "       ('SFS-out', 'USA') 0.0\n",
      "       ('Itapoá-out', 'EU') 0.0\n",
      "       ('SFS-out', 'EU') 0.0\n",
      "       ('SP', 'USA') 0.0\n",
      "       ('SP', 'EU') 0.0\n",
      "       ('SC', 'USA') 0.0\n",
      "       ('SC', 'EU') 0.0\n"
     ]
    }
   ],
   "source": [
    "for c in modelo.component_objects(pe.Constraint, active=True):\n",
    "    print (\"   Restrição\",c)\n",
    "    for index in c:\n",
    "        print (\"      \", index, modelo.dual[c[index]])\n",
    "\n",
    "\n",
    "#modelo.dual.display()"
   ]
  }
 ],
 "metadata": {
  "kernelspec": {
   "display_name": "jlab",
   "language": "python",
   "name": "jlab"
  },
  "language_info": {
   "codemirror_mode": {
    "name": "ipython",
    "version": 3
   },
   "file_extension": ".py",
   "mimetype": "text/x-python",
   "name": "python",
   "nbconvert_exporter": "python",
   "pygments_lexer": "ipython3",
   "version": "3.6.4"
  }
 },
 "nbformat": 4,
 "nbformat_minor": 4
}
