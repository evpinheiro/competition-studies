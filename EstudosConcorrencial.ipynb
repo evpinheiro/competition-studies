{
 "cells": [
  {
   "cell_type": "markdown",
   "metadata": {},
   "source": [
    "1.2.9 Método para análise estratégica: Análise estratégica de dados para alinhamento das outorgas portuárias"
   ]
  },
  {
   "cell_type": "code",
   "execution_count": 1,
   "metadata": {},
   "outputs": [],
   "source": [
    "import pandas as pd\n",
    "#import numpy as np\n",
    "import matplotlib.pyplot as plt\n",
    "import pyomo.opt\n",
    "import pyomo.environ as pe"
   ]
  },
  {
   "cell_type": "code",
   "execution_count": 2,
   "metadata": {},
   "outputs": [
    {
     "data": {
      "text/plain": [
       "{('SP', 'USA'): 1, ('SP', 'EU'): 1, ('SC', 'USA'): 1, ('SC', 'EU'): 1}"
      ]
     },
     "execution_count": 2,
     "metadata": {},
     "output_type": "execute_result"
    }
   ],
   "source": [
    "origem = [\"SP\", \"SC\"]\n",
    "destino = [\"USA\", \"EU\"]\n",
    "porto1 = [\"Itapoá-in\", \"Itapoá-out\"]\n",
    "porto2 = [ \"SFS-in\", \"SFS-out\"]\n",
    "\n",
    "arcos = [(origem[0], porto1[0]), (origem[0], porto2[0]), (origem[1], porto1[0]), (origem[1], porto2[0]),\n",
    "         (porto1[0], porto1[1]), (porto2[0], porto2[1]),\n",
    "         (porto1[1], destino[0]), (porto2[1], destino[0]), (porto1[1], destino[1]), (porto2[1], destino[1])]\n",
    "vertices = list(set().union(origem,destino,porto1,porto2))\n",
    "\n",
    "transport_cost = {arcos[0]:.505,\n",
    "                 arcos[1]:.190,\n",
    "                 arcos[2]:.365,\n",
    "                 arcos[3]:.265,\n",
    "                 arcos[4]:.002,\n",
    "                 arcos[5]:.001,\n",
    "                 arcos[6]:.345,\n",
    "                 arcos[7]:.525,\n",
    "                 arcos[8]:.210,\n",
    "                 arcos[9]:.245}\n",
    "\n",
    "links_capacity = {arcos[0]:1,\n",
    "                 arcos[1]:1,\n",
    "                 arcos[2]:1,\n",
    "                 arcos[3]:1,\n",
    "                 arcos[4]:2,\n",
    "                 arcos[5]:2,\n",
    "                 arcos[6]:1,\n",
    "                 arcos[7]:1,\n",
    "                 arcos[8]:1,\n",
    "                 arcos[9]:1}\n",
    "\n",
    "origem_destino = [(o,d) for o in origem for d in destino]#commodities\n",
    "demanda_origem_destino = {  origem_destino[0]:1, \n",
    "                            origem_destino[1]:1,\n",
    "                            origem_destino[2]:1, \n",
    "                            origem_destino[3]:1 }\n",
    "\n",
    "# print(\"link => custo\")\n",
    "# for key, value in transportCost.items():\n",
    "#     print(key,'=>', value)\n",
    "# print()\n",
    "# print(\"link => capacidade\")    \n",
    "# for key, value in linksCapacity.items():\n",
    "#     print(key,'=>', value)\n",
    "demanda_origem_destino\n"
   ]
  },
  {
   "cell_type": "markdown",
   "metadata": {},
   "source": [
    "Muticomodity Minimum cost flow problem"
   ]
  },
  {
   "cell_type": "code",
   "execution_count": 3,
   "metadata": {},
   "outputs": [
    {
     "name": "stdout",
     "output_type": "stream",
     "text": [
      "('SP', 'Itapoá-in', 'SP', 'USA')\n"
     ]
    }
   ],
   "source": [
    "array = set()\n",
    "for e in arcos:\n",
    "    for od in origem_destino:\n",
    "        if e[0]==od[0] or e[1]==od[1]:\n",
    "            array.add(((*e, *od)))\n",
    "print(array.pop())"
   ]
  },
  {
   "cell_type": "code",
   "execution_count": 4,
   "metadata": {},
   "outputs": [
    {
     "name": "stdout",
     "output_type": "stream",
     "text": [
      "{('USA', ('SC', 'USA')), ('SC', ('SC', 'EU')), ('EU', ('SP', 'EU')), ('SC', ('SC', 'USA')), ('SP', ('SP', 'EU')), ('SP', ('SP', 'USA')), ('USA', ('SP', 'USA')), ('EU', ('SC', 'EU'))}\n"
     ]
    }
   ],
   "source": [
    "array = set()\n",
    "for n in vertices:\n",
    "    for od in origem_destino:\n",
    "        if n==od[0] or n==od[1]:\n",
    "            array.add((n, od))\n",
    "print(array)"
   ]
  },
  {
   "cell_type": "code",
   "execution_count": 41,
   "metadata": {},
   "outputs": [
    {
     "name": "stdout",
     "output_type": "stream",
     "text": [
      "('SC', 'SFS-in', 'SC', 'USA') 0.0\n",
      "('SP', 'SFS-in', 'SC', 'USA') 0.0\n",
      "('SC', 'SFS-in', 'SC', 'EU') 1.0\n",
      "('SFS-out', 'EU', 'SP', 'EU') 0.0\n",
      "('SFS-in', 'SFS-out', 'SP', 'EU') 0.0\n",
      "('SC', 'Itapoá-in', 'SP', 'EU') 0.0\n",
      "('SFS-out', 'USA', 'SC', 'USA') 0.0\n",
      "('SFS-out', 'EU', 'SP', 'USA') 0.0\n",
      "('SFS-in', 'SFS-out', 'SP', 'USA') 1.0\n",
      "('SFS-out', 'USA', 'SP', 'USA') 1.0\n",
      "('SP', 'Itapoá-in', 'SC', 'EU') 0.0\n",
      "('Itapoá-out', 'EU', 'SC', 'USA') 0.0\n",
      "('SFS-in', 'SFS-out', 'SC', 'USA') 0.0\n",
      "('Itapoá-in', 'Itapoá-out', 'SC', 'EU') 0.0\n",
      "('SFS-in', 'SFS-out', 'SC', 'EU') 1.0\n",
      "('Itapoá-out', 'USA', 'SP', 'USA') 0.0\n",
      "('Itapoá-in', 'Itapoá-out', 'SP', 'EU') 1.0\n",
      "('Itapoá-out', 'USA', 'SC', 'USA') 1.0\n",
      "('Itapoá-out', 'EU', 'SP', 'EU') 1.0\n",
      "('SP', 'Itapoá-in', 'SP', 'USA') 0.0\n",
      "('SFS-out', 'EU', 'SC', 'USA') 0.0\n",
      "('SFS-out', 'EU', 'SC', 'EU') 1.0\n",
      "('Itapoá-out', 'EU', 'SP', 'USA') 0.0\n",
      "('SC', 'Itapoá-in', 'SP', 'USA') 0.0\n",
      "('SP', 'SFS-in', 'SC', 'EU') 0.0\n",
      "('SC', 'SFS-in', 'SP', 'EU') 0.0\n",
      "('SC', 'SFS-in', 'SP', 'USA') 0.0\n",
      "('SP', 'Itapoá-in', 'SC', 'USA') 0.0\n",
      "('SC', 'Itapoá-in', 'SC', 'USA') 1.0\n",
      "('SFS-out', 'USA', 'SC', 'EU') 0.0\n",
      "('Itapoá-out', 'EU', 'SC', 'EU') 0.0\n",
      "('SP', 'SFS-in', 'SP', 'USA') 1.0\n",
      "('SFS-out', 'USA', 'SP', 'EU') 0.0\n",
      "('SC', 'Itapoá-in', 'SC', 'EU') 0.0\n",
      "('Itapoá-out', 'USA', 'SP', 'EU') 0.0\n",
      "('SP', 'Itapoá-in', 'SP', 'EU') 1.0\n",
      "('Itapoá-in', 'Itapoá-out', 'SC', 'USA') 1.0\n",
      "('Itapoá-out', 'USA', 'SC', 'EU') 0.0\n",
      "('SP', 'SFS-in', 'SP', 'EU') 0.0\n",
      "('Itapoá-in', 'Itapoá-out', 'SP', 'USA') 0.0\n"
     ]
    }
   ],
   "source": [
    "modelo = pe.ConcreteModel(name=\"(demanda_porto)\")\n",
    "                  \n",
    "modelo.dual = pe.Suffix(direction=pe.Suffix.IMPORT)\n",
    "modelo.node_set = pe.Set( initialize=vertices )\n",
    "modelo.edge_set = pe.Set( initialize=arcos, dimen=2)\n",
    "modelo.commodity_set = pe.Set( initialize=origem_destino, dimen=2)\n",
    "\n",
    "modelo.var_indexes = pe.Set(initialize=modelo.edge_set*modelo.commodity_set)\n",
    "modelo.var = pe.Var(modelo.var_indexes, within=pe.NonNegativeReals)\n",
    "\n",
    "def objetivo(m):\n",
    "    return sum(transport_cost[(index[0], index[1])] * m.var[index] for index in modelo.var_indexes)     \n",
    "modelo.obj = pe.Objective(rule=objetivo, sense=pe.minimize)\n",
    "\n",
    "def conserva_fluxo(m, i, o, d):\n",
    "    from_i = [v for v in arcos if v[0] == i]\n",
    "    to_i = [v for v in arcos if v[1] == i]\n",
    "    q =  demanda_origem_destino[(o,d)] if i == o else -demanda_origem_destino[(o,d)] if i == d else 0\n",
    "    return sum(m.var[v,(o,d)] for v in from_i) - sum(m.var[v,(o,d)] for v in to_i) == q\n",
    "\n",
    "modelo.conserva_fluxo_indexes = pe.Set(initialize=modelo.node_set*modelo.commodity_set)\n",
    "modelo.flowConservation = pe.Constraint(modelo.conserva_fluxo_indexes, rule=conserva_fluxo)\n",
    "\n",
    "def capacidades(m, e1,e2):\n",
    "    return sum(m.var[e1,e2,o,d] for (o,d) in modelo.commodity_set) <= links_capacity[(e1,e2)]\n",
    "modelo.capacidade_arco = pe.Constraint(modelo.edge_set, rule=capacidades)\n",
    " \n",
    "solver = pyomo.opt.SolverFactory('cbc')\n",
    "results = solver.solve(modelo)\n",
    "#print(results)\n",
    "# print(results.solver.status)\n",
    "# modelo.x.pprint()\n",
    "# modelo.dual.display()\n",
    "#print(objetivo(modelo))\n",
    "#print(conserva_fluxo(modelo, vertices, origem_destino))\n",
    "#modelo.display()\n",
    "#modelo.pprint()\n",
    "for var_index in modelo.var_indexes:\n",
    "    print(var_index,modelo.var[var_index].value)\n",
    "# for con in modelo.component_map(pe.Constraint).itervalues():\n",
    "#     print(con.pprint())"
   ]
  },
  {
   "cell_type": "code",
   "execution_count": 6,
   "metadata": {},
   "outputs": [
    {
     "name": "stdout",
     "output_type": "stream",
     "text": [
      "SC ('SC', 'SFS-in', 'SC', 'USA')\n",
      "SP ('SP', 'SFS-in', 'SC', 'USA')\n",
      "SC ('SC', 'SFS-in', 'SC', 'EU')\n",
      "SFS-out ('SFS-out', 'EU', 'SP', 'EU')\n",
      "SFS-in ('SFS-in', 'SFS-out', 'SP', 'EU')\n",
      "SC ('SC', 'Itapoá-in', 'SP', 'EU')\n",
      "SFS-out ('SFS-out', 'USA', 'SC', 'USA')\n",
      "SFS-out ('SFS-out', 'EU', 'SP', 'USA')\n",
      "SFS-in ('SFS-in', 'SFS-out', 'SP', 'USA')\n",
      "SFS-out ('SFS-out', 'USA', 'SP', 'USA')\n",
      "SP ('SP', 'Itapoá-in', 'SC', 'EU')\n",
      "Itapoá-out ('Itapoá-out', 'EU', 'SC', 'USA')\n",
      "SFS-in ('SFS-in', 'SFS-out', 'SC', 'USA')\n",
      "Itapoá-in ('Itapoá-in', 'Itapoá-out', 'SC', 'EU')\n",
      "SFS-in ('SFS-in', 'SFS-out', 'SC', 'EU')\n",
      "Itapoá-out ('Itapoá-out', 'USA', 'SP', 'USA')\n",
      "Itapoá-in ('Itapoá-in', 'Itapoá-out', 'SP', 'EU')\n",
      "Itapoá-out ('Itapoá-out', 'USA', 'SC', 'USA')\n",
      "Itapoá-out ('Itapoá-out', 'EU', 'SP', 'EU')\n",
      "SP ('SP', 'Itapoá-in', 'SP', 'USA')\n",
      "SFS-out ('SFS-out', 'EU', 'SC', 'USA')\n",
      "SFS-out ('SFS-out', 'EU', 'SC', 'EU')\n",
      "Itapoá-out ('Itapoá-out', 'EU', 'SP', 'USA')\n",
      "SC ('SC', 'Itapoá-in', 'SP', 'USA')\n",
      "SP ('SP', 'SFS-in', 'SC', 'EU')\n",
      "SC ('SC', 'SFS-in', 'SP', 'EU')\n",
      "SC ('SC', 'SFS-in', 'SP', 'USA')\n",
      "SP ('SP', 'Itapoá-in', 'SC', 'USA')\n",
      "SC ('SC', 'Itapoá-in', 'SC', 'USA')\n",
      "SFS-out ('SFS-out', 'USA', 'SC', 'EU')\n",
      "Itapoá-out ('Itapoá-out', 'EU', 'SC', 'EU')\n",
      "SP ('SP', 'SFS-in', 'SP', 'USA')\n",
      "SFS-out ('SFS-out', 'USA', 'SP', 'EU')\n",
      "SC ('SC', 'Itapoá-in', 'SC', 'EU')\n",
      "Itapoá-out ('Itapoá-out', 'USA', 'SP', 'EU')\n",
      "SP ('SP', 'Itapoá-in', 'SP', 'EU')\n",
      "Itapoá-in ('Itapoá-in', 'Itapoá-out', 'SC', 'USA')\n",
      "Itapoá-out ('Itapoá-out', 'USA', 'SC', 'EU')\n",
      "SP ('SP', 'SFS-in', 'SP', 'EU')\n",
      "Itapoá-in ('Itapoá-in', 'Itapoá-out', 'SP', 'USA')\n"
     ]
    }
   ],
   "source": [
    "for k in modelo.indexes:\n",
    "    print(k[0],k)"
   ]
  },
  {
   "cell_type": "code",
   "execution_count": 7,
   "metadata": {},
   "outputs": [
    {
     "name": "stdout",
     "output_type": "stream",
     "text": [
      "3\n",
      "2\n",
      "('Itapoá-in', 'SC', 'EU')\n",
      "('Itapoá-out', 'SP', 'EU')\n",
      "('SC', 'SP', 'EU')\n",
      "('SP', 'SC', 'EU')\n",
      "('SP', 'SC', 'USA')\n",
      "('SFS-out', 'SP', 'USA')\n",
      "('EU', 'SP', 'USA')\n",
      "('USA', 'SC', 'USA')\n",
      "('SFS-in', 'SP', 'EU')\n",
      "('SFS-out', 'SC', 'USA')\n",
      "('SC', 'SC', 'EU')\n",
      "('USA', 'SP', 'EU')\n",
      "('USA', 'SP', 'USA')\n",
      "('SFS-out', 'SC', 'EU')\n",
      "('SC', 'SC', 'USA')\n",
      "('Itapoá-out', 'SC', 'USA')\n",
      "('Itapoá-in', 'SP', 'USA')\n",
      "('SFS-in', 'SC', 'EU')\n",
      "('EU', 'SC', 'USA')\n",
      "('SP', 'SP', 'EU')\n",
      "('SFS-in', 'SC', 'USA')\n",
      "('EU', 'SC', 'EU')\n",
      "('Itapoá-in', 'SP', 'EU')\n",
      "('Itapoá-out', 'SC', 'EU')\n",
      "('Itapoá-in', 'SC', 'USA')\n",
      "('Itapoá-out', 'SP', 'USA')\n",
      "('SP', 'SP', 'USA')\n",
      "('SFS-out', 'SP', 'EU')\n",
      "('SFS-in', 'SP', 'USA')\n",
      "('SC', 'SP', 'USA')\n",
      "('EU', 'SP', 'EU')\n",
      "('USA', 'SC', 'EU')\n"
     ]
    }
   ],
   "source": [
    "vakkkk =modelo.conserva_fluxo_indexes\n",
    "print(vakkkk.dimen)\n",
    "print(modelo.commodity_set.dimen)\n",
    "for i in vakkkk:\n",
    "    print(i)"
   ]
  },
  {
   "cell_type": "code",
   "execution_count": null,
   "metadata": {},
   "outputs": [],
   "source": []
  }
 ],
 "metadata": {
  "kernelspec": {
   "display_name": "Python 3",
   "language": "python",
   "name": "python3"
  },
  "language_info": {
   "codemirror_mode": {
    "name": "ipython",
    "version": 3
   },
   "file_extension": ".py",
   "mimetype": "text/x-python",
   "name": "python",
   "nbconvert_exporter": "python",
   "pygments_lexer": "ipython3",
   "version": "3.6.7"
  }
 },
 "nbformat": 4,
 "nbformat_minor": 2
}
