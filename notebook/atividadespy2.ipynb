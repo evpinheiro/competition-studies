{
 "cells": [
  {
   "cell_type": "markdown",
   "metadata": {},
   "source": [
    "1.2.9 Método para análise estratégica: Análise estratégica de dados para alinhamento das outorgas portuárias"
   ]
  },
  {
   "cell_type": "code",
   "execution_count": 6,
   "metadata": {},
   "outputs": [],
   "source": [
    "import scipy"
   ]
  },
  {
   "cell_type": "code",
   "execution_count": 10,
   "metadata": {},
   "outputs": [],
   "source": [
    "from scipy.spatial import Voronoi, voronoi_plot_2d\n",
    "import matplotlib.pyplot as plt"
   ]
  },
  {
   "cell_type": "code",
   "execution_count": 10,
   "metadata": {},
   "outputs": [],
   "source": [
    "#points = np.array([[0, 0], [0, 1], [0, 2], [1, 0], [1, 1], [1, 2],[2, 0], [2, 1], [2, 2]])\n",
    "#points = np.array([[0, 1], [1, 0], [1, 2], [2, 1]])\n",
    "points = np.array([[0, 0], [0, 0.5], [0, 2], [1, 0], [1, 1], [1, 2.5],[2, 0], [2, 1], [2, 2]])"
   ]
  },
  {
   "cell_type": "code",
   "execution_count": 11,
   "metadata": {},
   "outputs": [],
   "source": [
    "vor = Voronoi(points)"
   ]
  },
  {
   "cell_type": "code",
   "execution_count": 12,
   "metadata": {},
   "outputs": [
    {
     "data": {
      "image/png": "[encoded data removed]",
      "text/plain": [
       "<Figure size 432x288 with 1 Axes>"
      ]
     },
     "metadata": {},
     "output_type": "display_data"
    }
   ],
   "source": [
    "voronoi_plot_2d(vor)\n",
    "plt.show()"
   ]
  },
  {
   "cell_type": "code",
   "execution_count": 14,
   "metadata": {
    "scrolled": false
   },
   "outputs": [
    {
     "data": {
      "text/plain": [
       "[[-1, 0, 1],\n",
       " [],\n",
       " [4, 2, -1, 3],\n",
       " [2, 0, -1],\n",
       " [3, -1],\n",
       " [5, 6, -1],\n",
       " [5, 6, 4, 2, 0, 1],\n",
       " [-1, 6],\n",
       " [5, 1, -1],\n",
       " [4, 6, -1, 3]]"
      ]
     },
     "execution_count": 14,
     "metadata": {},
     "output_type": "execute_result"
    }
   ],
   "source": [
    "vor.regions"
   ]
  },
  {
   "cell_type": "code",
   "execution_count": 5,
   "metadata": {
    "scrolled": true
   },
   "outputs": [
    {
     "name": "stdout",
     "output_type": "stream",
     "text": [
      "8 Set Declarations\n",
      "    one_per_cust_index : Dim=0, Dimen=1, Size=4, Domain=None, Ordered=False, Bounds=None\n",
      "        ['Chicago', 'Houston', 'LA', 'NYC']\n",
      "    warehouse_active_index : Dim=0, Dimen=2, Size=12, Domain=None, Ordered=False, Bounds=None\n",
      "        Virtual\n",
      "    warehouse_active_index_0 : Dim=0, Dimen=1, Size=3, Domain=None, Ordered=False, Bounds=None\n",
      "        ['Ashland', 'Harlingen', 'Memphis']\n",
      "    warehouse_active_index_1 : Dim=0, Dimen=1, Size=4, Domain=None, Ordered=False, Bounds=None\n",
      "        ['Chicago', 'Houston', 'LA', 'NYC']\n",
      "    x_index : Dim=0, Dimen=2, Size=12, Domain=None, Ordered=False, Bounds=None\n",
      "        Virtual\n",
      "    x_index_0 : Dim=0, Dimen=1, Size=3, Domain=None, Ordered=False, Bounds=None\n",
      "        ['Ashland', 'Harlingen', 'Memphis']\n",
      "    x_index_1 : Dim=0, Dimen=1, Size=4, Domain=None, Ordered=False, Bounds=None\n",
      "        ['Chicago', 'Houston', 'LA', 'NYC']\n",
      "    y_index : Dim=0, Dimen=1, Size=3, Domain=None, Ordered=False, Bounds=None\n",
      "        ['Ashland', 'Harlingen', 'Memphis']\n",
      "\n",
      "2 Var Declarations\n",
      "    x : Size=12, Index=x_index\n",
      "        Key                      : Lower : Value : Upper : Fixed : Stale : Domain\n",
      "          ('Ashland', 'Chicago') :     0 :   1.0 :     1 : False : False :  Reals\n",
      "          ('Ashland', 'Houston') :     0 :   0.0 :     1 : False : False :  Reals\n",
      "               ('Ashland', 'LA') :     0 :   0.0 :     1 : False : False :  Reals\n",
      "              ('Ashland', 'NYC') :     0 :   1.0 :     1 : False : False :  Reals\n",
      "        ('Harlingen', 'Chicago') :     0 :   0.0 :     1 : False : False :  Reals\n",
      "        ('Harlingen', 'Houston') :     0 :   1.0 :     1 : False : False :  Reals\n",
      "             ('Harlingen', 'LA') :     0 :   1.0 :     1 : False : False :  Reals\n",
      "            ('Harlingen', 'NYC') :     0 :   0.0 :     1 : False : False :  Reals\n",
      "          ('Memphis', 'Chicago') :     0 :   0.0 :     1 : False : False :  Reals\n",
      "          ('Memphis', 'Houston') :     0 :   0.0 :     1 : False : False :  Reals\n",
      "               ('Memphis', 'LA') :     0 :   0.0 :     1 : False : False :  Reals\n",
      "              ('Memphis', 'NYC') :     0 :   0.0 :     1 : False : False :  Reals\n",
      "    y : Size=3, Index=y_index\n",
      "        Key       : Lower : Value : Upper : Fixed : Stale : Domain\n",
      "          Ashland :     0 :   1.0 :     1 : False : False : Binary\n",
      "        Harlingen :     0 :   1.0 :     1 : False : False : Binary\n",
      "          Memphis :     0 :   0.0 :     1 : False : False : Binary\n",
      "\n",
      "1 Objective Declarations\n",
      "    obj : Size=1, Index=None, Active=True\n",
      "        Key  : Active : Sense    : Expression\n",
      "        None :   True : minimize : 1956*x[Harlingen,NYC] + 1606*x[Harlingen,LA] + 1410*x[Harlingen,Chicago] + 330*x[Harlingen,Houston] + 1096*x[Memphis,NYC] + 1792*x[Memphis,LA] + 531*x[Memphis,Chicago] + 567*x[Memphis,Houston] + 485*x[Ashland,NYC] + 2322*x[Ashland,LA] + 324*x[Ashland,Chicago] + 1236*x[Ashland,Houston]\n",
      "\n",
      "3 Constraint Declarations\n",
      "    num_warehouses : Size=1, Index=None, Active=True\n",
      "        Key  : Lower : Body                                   : Upper : Active\n",
      "        None :  -Inf : y[Harlingen] + y[Memphis] + y[Ashland] :   2.0 :   True\n",
      "    one_per_cust : Size=4, Index=one_per_cust_index, Active=True\n",
      "        Key     : Lower : Body                                                           : Upper : Active\n",
      "        Chicago :   1.0 : x[Harlingen,Chicago] + x[Memphis,Chicago] + x[Ashland,Chicago] :   1.0 :   True\n",
      "        Houston :   1.0 : x[Harlingen,Houston] + x[Memphis,Houston] + x[Ashland,Houston] :   1.0 :   True\n",
      "             LA :   1.0 :                x[Harlingen,LA] + x[Memphis,LA] + x[Ashland,LA] :   1.0 :   True\n",
      "            NYC :   1.0 :             x[Harlingen,NYC] + x[Memphis,NYC] + x[Ashland,NYC] :   1.0 :   True\n",
      "    warehouse_active : Size=12, Index=warehouse_active_index, Active=True\n",
      "        Key                      : Lower : Body                                : Upper : Active\n",
      "          ('Ashland', 'Chicago') :  -Inf :     x[Ashland,Chicago] - y[Ashland] :   0.0 :   True\n",
      "          ('Ashland', 'Houston') :  -Inf :     x[Ashland,Houston] - y[Ashland] :   0.0 :   True\n",
      "               ('Ashland', 'LA') :  -Inf :          x[Ashland,LA] - y[Ashland] :   0.0 :   True\n",
      "              ('Ashland', 'NYC') :  -Inf :         x[Ashland,NYC] - y[Ashland] :   0.0 :   True\n",
      "        ('Harlingen', 'Chicago') :  -Inf : x[Harlingen,Chicago] - y[Harlingen] :   0.0 :   True\n",
      "        ('Harlingen', 'Houston') :  -Inf : x[Harlingen,Houston] - y[Harlingen] :   0.0 :   True\n",
      "             ('Harlingen', 'LA') :  -Inf :      x[Harlingen,LA] - y[Harlingen] :   0.0 :   True\n",
      "            ('Harlingen', 'NYC') :  -Inf :     x[Harlingen,NYC] - y[Harlingen] :   0.0 :   True\n",
      "          ('Memphis', 'Chicago') :  -Inf :     x[Memphis,Chicago] - y[Memphis] :   0.0 :   True\n",
      "          ('Memphis', 'Houston') :  -Inf :     x[Memphis,Houston] - y[Memphis] :   0.0 :   True\n",
      "               ('Memphis', 'LA') :  -Inf :          x[Memphis,LA] - y[Memphis] :   0.0 :   True\n",
      "              ('Memphis', 'NYC') :  -Inf :         x[Memphis,NYC] - y[Memphis] :   0.0 :   True\n",
      "\n",
      "14 Declarations: x_index_0 x_index_1 x_index x y_index y obj one_per_cust_index one_per_cust warehouse_active_index_0 warehouse_active_index_1 warehouse_active_index warehouse_active num_warehouses\n"
     ]
    }
   ],
   "source": [
    "# warehouse_location.py: Warehouse location determination problem\n",
    "from pyomo.environ import *\n",
    "\n",
    "model = ConcreteModel(name=\"(WL)\")\n",
    "\n",
    "W = ['Harlingen', 'Memphis', 'Ashland']\n",
    "C = ['NYC', 'LA', 'Chicago', 'Houston']\n",
    "d = {('Harlingen', 'NYC'): 1956, \\\n",
    "     ('Harlingen', 'LA'): 1606, \\\n",
    "     ('Harlingen', 'Chicago'): 1410, \\\n",
    "     ('Harlingen', 'Houston'): 330, \\\n",
    "     ('Memphis', 'NYC'): 1096, \\\n",
    "     ('Memphis', 'LA'): 1792, \\\n",
    "     ('Memphis', 'Chicago'): 531, \\\n",
    "     ('Memphis', 'Houston'): 567, \\\n",
    "     ('Ashland', 'NYC'): 485, \\\n",
    "     ('Ashland', 'LA'): 2322, \\\n",
    "     ('Ashland', 'Chicago'): 324, \\\n",
    "     ('Ashland', 'Houston'): 1236 }\n",
    "P = 2\n",
    "\n",
    "model.x = Var(W, C, bounds=(0,1))\n",
    "model.y = Var(W, within=Binary)\n",
    "\n",
    "def obj_rule(m):\n",
    "    return sum(d[w,c]*m.x[w,c] for w in W for c in C)\n",
    "model.obj = Objective(rule=obj_rule)\n",
    "\n",
    "def one_per_cust_rule(m, c):\n",
    "    return sum(m.x[w,c] for w in W) == 1\n",
    "model.one_per_cust = Constraint(C, rule=one_per_cust_rule)\n",
    "\n",
    "def warehouse_active_rule(m, w, c):\n",
    "    return m.x[w,c] <= m.y[w]\n",
    "model.warehouse_active = Constraint(W, C, rule=warehouse_active_rule)\n",
    "\n",
    "def num_warehouses_rule(m):\n",
    "    return sum(m.y[w] for w in W) <= P\n",
    "model.num_warehouses = Constraint(rule=num_warehouses_rule)\n",
    "\n",
    "SolverFactory('cbc').solve(model)\n",
    "\n",
    "# model.y.pprint()\n",
    "# model.x.pprint()\n",
    "model.pprint()\n",
    "\n",
    "#print(obj_rule(model))\n",
    "#model.display()\n",
    "\n"
   ]
  },
  {
   "cell_type": "code",
   "execution_count": 10,
   "metadata": {},
   "outputs": [
    {
     "name": "stdout",
     "output_type": "stream",
     "text": [
      "[    0.00] Setting up Pyomo environment\n",
      "[    0.00] Applying Pyomo preprocessing actions\n",
      "[    0.00] Creating model\n",
      "[    0.00] Applying solver\n",
      "[    0.03] Processing results\n",
      "    Number of solutions: 1\n",
      "    Solution Information\n",
      "      Gap: 0.0\n",
      "      Status: optimal\n",
      "      Function Value: 2745.0\n",
      "    Solver results file: results.json\n",
      "[    0.03] Applying Pyomo postprocessing actions\n",
      "[    0.03] Pyomo Finished\n"
     ]
    }
   ],
   "source": [
    "!pyomo solve --solver=cbc warehouse_location.py"
   ]
  },
  {
   "cell_type": "code",
   "execution_count": 20,
   "metadata": {},
   "outputs": [],
   "source": [
    "import json\n",
    "#json.loads(results)\n",
    "with open(\"results.json\", \"r\") as results:\n",
    "    results = json.load(results)"
   ]
  },
  {
   "cell_type": "code",
   "execution_count": 34,
   "metadata": {},
   "outputs": [
    {
     "data": {
      "text/plain": [
       "[{'number of solutions': 1, 'number of solutions displayed': 1},\n",
       " {'Constraint': 'No values',\n",
       "  'Gap': 0.0,\n",
       "  'Message': None,\n",
       "  'Objective': {'obj': {'Value': 2745.0}},\n",
       "  'Problem': {},\n",
       "  'Status': 'optimal',\n",
       "  'Variable': {'x[Ashland,Chicago]': {'Value': 1.0},\n",
       "   'x[Ashland,NYC]': {'Value': 1.0},\n",
       "   'x[Harlingen,Houston]': {'Value': 1.0},\n",
       "   'x[Harlingen,LA]': {'Value': 1.0},\n",
       "   'y[Ashland]': {'Value': 1.0},\n",
       "   'y[Harlingen]': {'Value': 1.0}}}]"
      ]
     },
     "execution_count": 34,
     "metadata": {},
     "output_type": "execute_result"
    }
   ],
   "source": [
    "results[\"Solution\"]"
   ]
  },
  {
   "cell_type": "code",
   "execution_count": 16,
   "metadata": {},
   "outputs": [
    {
     "ename": "SyntaxError",
     "evalue": "invalid syntax (<ipython-input-16-8f8b9128e97b>, line 1)",
     "output_type": "error",
     "traceback": [
      "\u001b[0;36m  File \u001b[0;32m\"<ipython-input-16-8f8b9128e97b>\"\u001b[0;36m, line \u001b[0;32m1\u001b[0m\n\u001b[0;31m    Capacitated vehicle routing problem\u001b[0m\n\u001b[0m                      ^\u001b[0m\n\u001b[0;31mSyntaxError\u001b[0m\u001b[0;31m:\u001b[0m invalid syntax\n"
     ]
    }
   ],
   "source": [
    "Capacitated vehicle routing problem\n",
    "https://www.youtube.com/watch?v=-hGL39jdtQE"
   ]
  },
  {
   "cell_type": "code",
   "execution_count": 14,
   "metadata": {},
   "outputs": [],
   "source": [
    "import numpy as np"
   ]
  },
  {
   "cell_type": "code",
   "execution_count": 15,
   "metadata": {
    "scrolled": true
   },
   "outputs": [
    {
     "name": "stdout",
     "output_type": "stream",
     "text": [
      "('Test', 1)\n",
      "0.5223627210297056\n",
      "0.18191657577201353\n",
      "0.06247948625530501\n",
      "0.019966678456679855\n",
      "('Test', 2)\n",
      "0.6485367498697655\n",
      "0.18653504214043934\n",
      "0.06430479157277978\n",
      "0.01971521833312833\n",
      "('Test', 3)\n",
      "0.6478641771984641\n",
      "0.22924444570439845\n",
      "0.06308250192660808\n",
      "0.01980449887615814\n"
     ]
    }
   ],
   "source": [
    "#Monte Carlo Simulation Example\n",
    "for test in range(1,4):\n",
    "    print(\"Test\", test)\n",
    "    for k in [1,10,100,1000]:    \n",
    "        error = []\n",
    "        for n in range(k,k*10):\n",
    "            qt_in = 0\n",
    "            qt_out = 0                \n",
    "            for i in range(n):\n",
    "                x = np.random.rand()\n",
    "                y = np.random.rand()\n",
    "                if (x**2 + y**2) < 1:\n",
    "                    qt_in = qt_in + 1\n",
    "                else:\n",
    "                    qt_out = qt_out + 1\n",
    "            cal_pi = 4.0*qt_in/n                \n",
    "            error.append(abs(cal_pi - np.pi))                \n",
    "        print(np.mean(error))        "
   ]
  },
  {
   "cell_type": "code",
   "execution_count": null,
   "metadata": {},
   "outputs": [],
   "source": []
  }
 ],
 "metadata": {
  "kernelspec": {
   "display_name": "Python 3",
   "language": "python",
   "name": "python3"
  },
  "language_info": {
   "codemirror_mode": {
    "name": "ipython",
    "version": 3
   },
   "file_extension": ".py",
   "mimetype": "text/x-python",
   "name": "python",
   "nbconvert_exporter": "python",
   "pygments_lexer": "ipython3",
   "version": "3.6.7"
  }
 },
 "nbformat": 4,
 "nbformat_minor": 2
}
